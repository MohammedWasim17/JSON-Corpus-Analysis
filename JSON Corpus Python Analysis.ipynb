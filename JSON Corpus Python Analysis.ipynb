{
 "cells": [
  {
   "cell_type": "code",
   "execution_count": 2,
   "metadata": {},
   "outputs": [],
   "source": [
    "import json\n",
    "from typing import Dict\n",
    "from dataclasses import dataclass, field, asdict\n",
    "\n",
    "@dataclass\n",
    "class Lemma:\n",
    "    lemma: str\n",
    "    pos: str\n",
    "    inflections: str = ''\n",
    "    frequency: int = 0\n",
    "    wordform_freqs: Dict[str, int] = field(default_factory=dict)\n",
    "\n",
    "def read_data(data):\n",
    "    lemmas = {}\n",
    "    for sentence in data[\"sentences\"]:\n",
    "        for token in sentence[\"tokens\"]:\n",
    "            lemma = token[\"lemma\"]\n",
    "            wordform = token[\"text\"]\n",
    "            pos = token[\"pos\"]\n",
    "            inflections = token[\"feats\"]\n",
    "\n",
    "            if lemma not in lemmas:\n",
    "                lemmas[lemma] = Lemma(lemma, pos, inflections)\n",
    "            lemmas[lemma].frequency += 1\n",
    "\n",
    "            if wordform not in lemmas[lemma].wordform_freqs:\n",
    "                lemmas[lemma].wordform_freqs[wordform] = 0\n",
    "            lemmas[lemma].wordform_freqs[wordform] += 1\n",
    "\n",
    "    return lemmas\n",
    "\n",
    "def main():\n",
    "    with open(\"C:/Users/ACER/Downloads/sample_parsed_sentences.json\", \"r\", encoding='utf-8') as f:\n",
    "        data = json.load(f)\n",
    "    lemmas = read_data(data)\n",
    "    with open(\"C:/Users/ACER/Downloads/output.json\", \"w\", encoding='utf-8') as f:\n",
    "        json.dump([asdict(lemma) for lemma in lemmas.values()], f, ensure_ascii=False, indent=4)\n",
    "\n",
    "if __name__ == \"__main__\":\n",
    "    main()\n"
   ]
  },
  {
   "cell_type": "code",
   "execution_count": null,
   "metadata": {},
   "outputs": [],
   "source": []
  }
 ],
 "metadata": {
  "kernelspec": {
   "display_name": "Python 3",
   "language": "python",
   "name": "python3"
  },
  "language_info": {
   "codemirror_mode": {
    "name": "ipython",
    "version": 3
   },
   "file_extension": ".py",
   "mimetype": "text/x-python",
   "name": "python",
   "nbconvert_exporter": "python",
   "pygments_lexer": "ipython3",
   "version": "3.8.5"
  }
 },
 "nbformat": 4,
 "nbformat_minor": 4
}
